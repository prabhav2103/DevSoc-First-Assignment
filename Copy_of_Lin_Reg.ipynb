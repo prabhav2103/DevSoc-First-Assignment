{
  "cells": [
    {
      "cell_type": "markdown",
      "metadata": {
        "id": "view-in-github",
        "colab_type": "text"
      },
      "source": [
        "<a href=\"https://colab.research.google.com/github/prabhav2103/DevSoc-First-Assignment/blob/main/Copy_of_Lin_Reg.ipynb\" target=\"_parent\"><img src=\"https://colab.research.google.com/assets/colab-badge.svg\" alt=\"Open In Colab\"/></a>"
      ]
    },
    {
      "cell_type": "markdown",
      "source": [
        "# Linear Regression"
      ],
      "metadata": {
        "id": "LvkxJLK872xG"
      }
    },
    {
      "cell_type": "markdown",
      "source": [],
      "metadata": {
        "id": "uJEzeBaYrp3a"
      }
    },
    {
      "cell_type": "code",
      "execution_count": 18,
      "metadata": {
        "id": "ylSYM7srAaTK"
      },
      "outputs": [],
      "source": [
        "# Import the required libraries\n",
        "import pandas as pd"
      ]
    },
    {
      "cell_type": "markdown",
      "metadata": {
        "id": "1d8TzpYrAaTK"
      },
      "source": [
        "## Data Preprocessing"
      ]
    },
    {
      "cell_type": "markdown",
      "metadata": {
        "id": "Ko0DUQMIAaTL"
      },
      "source": [
        "### **Exploring the dataset**"
      ]
    },
    {
      "cell_type": "markdown",
      "metadata": {
        "id": "PiIvXaDLAaTL"
      },
      "source": [
        "Let's start with loading the training data from the csv into a pandas dataframe"
      ]
    },
    {
      "cell_type": "markdown",
      "source": [
        "\n",
        "\n",
        "Load the datasets from GitHub. Train dataset has already been loaded for you in df below. To get test dataset use the commented code."
      ],
      "metadata": {
        "id": "CeVVY-uHrsqR"
      }
    },
    {
      "cell_type": "code",
      "execution_count": 19,
      "metadata": {
        "id": "dj_ZCCgTAaTL",
        "collapsed": true
      },
      "outputs": [],
      "source": [
        "df = pd.read_csv('https://raw.githubusercontent.com/cronan03/DevSoc_AI-ML/main/train_processed_splitted.csv')"
      ]
    },
    {
      "cell_type": "markdown",
      "metadata": {
        "id": "l5-4Ujl1AaTL"
      },
      "source": [
        "Let's see what the first 5 rows of this dataset looks like"
      ]
    },
    {
      "cell_type": "code",
      "execution_count": 20,
      "metadata": {
        "id": "-ieOW_eQAaTL",
        "outputId": "319b757e-e71a-48ae-c7fd-84e3b871bf3d",
        "colab": {
          "base_uri": "https://localhost:8080/",
          "height": 206
        }
      },
      "outputs": [
        {
          "output_type": "execute_result",
          "data": {
            "text/plain": [
              "   LotArea  TotalBsmtSF  GrLivArea  GarageArea  PoolArea  OverallCond  \\\n",
              "0    11553         1051       1159         336         0            5   \n",
              "1     8400         1052       1052         288         0            5   \n",
              "2     8960         1008       1028         360         0            6   \n",
              "3    11100            0        930         308         0            7   \n",
              "4    15593         1304       2287         667         0            4   \n",
              "\n",
              "  Utilities  SalePrice  \n",
              "0    AllPub     158000  \n",
              "1    AllPub     138500  \n",
              "2    AllPub     115000  \n",
              "3    AllPub      84900  \n",
              "4    AllPub     225000  "
            ],
            "text/html": [
              "\n",
              "  <div id=\"df-08dc7a9f-d09e-4530-8fef-e4ce357ad265\" class=\"colab-df-container\">\n",
              "    <div>\n",
              "<style scoped>\n",
              "    .dataframe tbody tr th:only-of-type {\n",
              "        vertical-align: middle;\n",
              "    }\n",
              "\n",
              "    .dataframe tbody tr th {\n",
              "        vertical-align: top;\n",
              "    }\n",
              "\n",
              "    .dataframe thead th {\n",
              "        text-align: right;\n",
              "    }\n",
              "</style>\n",
              "<table border=\"1\" class=\"dataframe\">\n",
              "  <thead>\n",
              "    <tr style=\"text-align: right;\">\n",
              "      <th></th>\n",
              "      <th>LotArea</th>\n",
              "      <th>TotalBsmtSF</th>\n",
              "      <th>GrLivArea</th>\n",
              "      <th>GarageArea</th>\n",
              "      <th>PoolArea</th>\n",
              "      <th>OverallCond</th>\n",
              "      <th>Utilities</th>\n",
              "      <th>SalePrice</th>\n",
              "    </tr>\n",
              "  </thead>\n",
              "  <tbody>\n",
              "    <tr>\n",
              "      <th>0</th>\n",
              "      <td>11553</td>\n",
              "      <td>1051</td>\n",
              "      <td>1159</td>\n",
              "      <td>336</td>\n",
              "      <td>0</td>\n",
              "      <td>5</td>\n",
              "      <td>AllPub</td>\n",
              "      <td>158000</td>\n",
              "    </tr>\n",
              "    <tr>\n",
              "      <th>1</th>\n",
              "      <td>8400</td>\n",
              "      <td>1052</td>\n",
              "      <td>1052</td>\n",
              "      <td>288</td>\n",
              "      <td>0</td>\n",
              "      <td>5</td>\n",
              "      <td>AllPub</td>\n",
              "      <td>138500</td>\n",
              "    </tr>\n",
              "    <tr>\n",
              "      <th>2</th>\n",
              "      <td>8960</td>\n",
              "      <td>1008</td>\n",
              "      <td>1028</td>\n",
              "      <td>360</td>\n",
              "      <td>0</td>\n",
              "      <td>6</td>\n",
              "      <td>AllPub</td>\n",
              "      <td>115000</td>\n",
              "    </tr>\n",
              "    <tr>\n",
              "      <th>3</th>\n",
              "      <td>11100</td>\n",
              "      <td>0</td>\n",
              "      <td>930</td>\n",
              "      <td>308</td>\n",
              "      <td>0</td>\n",
              "      <td>7</td>\n",
              "      <td>AllPub</td>\n",
              "      <td>84900</td>\n",
              "    </tr>\n",
              "    <tr>\n",
              "      <th>4</th>\n",
              "      <td>15593</td>\n",
              "      <td>1304</td>\n",
              "      <td>2287</td>\n",
              "      <td>667</td>\n",
              "      <td>0</td>\n",
              "      <td>4</td>\n",
              "      <td>AllPub</td>\n",
              "      <td>225000</td>\n",
              "    </tr>\n",
              "  </tbody>\n",
              "</table>\n",
              "</div>\n",
              "    <div class=\"colab-df-buttons\">\n",
              "\n",
              "  <div class=\"colab-df-container\">\n",
              "    <button class=\"colab-df-convert\" onclick=\"convertToInteractive('df-08dc7a9f-d09e-4530-8fef-e4ce357ad265')\"\n",
              "            title=\"Convert this dataframe to an interactive table.\"\n",
              "            style=\"display:none;\">\n",
              "\n",
              "  <svg xmlns=\"http://www.w3.org/2000/svg\" height=\"24px\" viewBox=\"0 -960 960 960\">\n",
              "    <path d=\"M120-120v-720h720v720H120Zm60-500h600v-160H180v160Zm220 220h160v-160H400v160Zm0 220h160v-160H400v160ZM180-400h160v-160H180v160Zm440 0h160v-160H620v160ZM180-180h160v-160H180v160Zm440 0h160v-160H620v160Z\"/>\n",
              "  </svg>\n",
              "    </button>\n",
              "\n",
              "  <style>\n",
              "    .colab-df-container {\n",
              "      display:flex;\n",
              "      gap: 12px;\n",
              "    }\n",
              "\n",
              "    .colab-df-convert {\n",
              "      background-color: #E8F0FE;\n",
              "      border: none;\n",
              "      border-radius: 50%;\n",
              "      cursor: pointer;\n",
              "      display: none;\n",
              "      fill: #1967D2;\n",
              "      height: 32px;\n",
              "      padding: 0 0 0 0;\n",
              "      width: 32px;\n",
              "    }\n",
              "\n",
              "    .colab-df-convert:hover {\n",
              "      background-color: #E2EBFA;\n",
              "      box-shadow: 0px 1px 2px rgba(60, 64, 67, 0.3), 0px 1px 3px 1px rgba(60, 64, 67, 0.15);\n",
              "      fill: #174EA6;\n",
              "    }\n",
              "\n",
              "    .colab-df-buttons div {\n",
              "      margin-bottom: 4px;\n",
              "    }\n",
              "\n",
              "    [theme=dark] .colab-df-convert {\n",
              "      background-color: #3B4455;\n",
              "      fill: #D2E3FC;\n",
              "    }\n",
              "\n",
              "    [theme=dark] .colab-df-convert:hover {\n",
              "      background-color: #434B5C;\n",
              "      box-shadow: 0px 1px 3px 1px rgba(0, 0, 0, 0.15);\n",
              "      filter: drop-shadow(0px 1px 2px rgba(0, 0, 0, 0.3));\n",
              "      fill: #FFFFFF;\n",
              "    }\n",
              "  </style>\n",
              "\n",
              "    <script>\n",
              "      const buttonEl =\n",
              "        document.querySelector('#df-08dc7a9f-d09e-4530-8fef-e4ce357ad265 button.colab-df-convert');\n",
              "      buttonEl.style.display =\n",
              "        google.colab.kernel.accessAllowed ? 'block' : 'none';\n",
              "\n",
              "      async function convertToInteractive(key) {\n",
              "        const element = document.querySelector('#df-08dc7a9f-d09e-4530-8fef-e4ce357ad265');\n",
              "        const dataTable =\n",
              "          await google.colab.kernel.invokeFunction('convertToInteractive',\n",
              "                                                    [key], {});\n",
              "        if (!dataTable) return;\n",
              "\n",
              "        const docLinkHtml = 'Like what you see? Visit the ' +\n",
              "          '<a target=\"_blank\" href=https://colab.research.google.com/notebooks/data_table.ipynb>data table notebook</a>'\n",
              "          + ' to learn more about interactive tables.';\n",
              "        element.innerHTML = '';\n",
              "        dataTable['output_type'] = 'display_data';\n",
              "        await google.colab.output.renderOutput(dataTable, element);\n",
              "        const docLink = document.createElement('div');\n",
              "        docLink.innerHTML = docLinkHtml;\n",
              "        element.appendChild(docLink);\n",
              "      }\n",
              "    </script>\n",
              "  </div>\n",
              "\n",
              "\n",
              "    <div id=\"df-f9b62858-175c-4a6e-816c-480d65715280\">\n",
              "      <button class=\"colab-df-quickchart\" onclick=\"quickchart('df-f9b62858-175c-4a6e-816c-480d65715280')\"\n",
              "                title=\"Suggest charts\"\n",
              "                style=\"display:none;\">\n",
              "\n",
              "<svg xmlns=\"http://www.w3.org/2000/svg\" height=\"24px\"viewBox=\"0 0 24 24\"\n",
              "     width=\"24px\">\n",
              "    <g>\n",
              "        <path d=\"M19 3H5c-1.1 0-2 .9-2 2v14c0 1.1.9 2 2 2h14c1.1 0 2-.9 2-2V5c0-1.1-.9-2-2-2zM9 17H7v-7h2v7zm4 0h-2V7h2v10zm4 0h-2v-4h2v4z\"/>\n",
              "    </g>\n",
              "</svg>\n",
              "      </button>\n",
              "\n",
              "<style>\n",
              "  .colab-df-quickchart {\n",
              "      --bg-color: #E8F0FE;\n",
              "      --fill-color: #1967D2;\n",
              "      --hover-bg-color: #E2EBFA;\n",
              "      --hover-fill-color: #174EA6;\n",
              "      --disabled-fill-color: #AAA;\n",
              "      --disabled-bg-color: #DDD;\n",
              "  }\n",
              "\n",
              "  [theme=dark] .colab-df-quickchart {\n",
              "      --bg-color: #3B4455;\n",
              "      --fill-color: #D2E3FC;\n",
              "      --hover-bg-color: #434B5C;\n",
              "      --hover-fill-color: #FFFFFF;\n",
              "      --disabled-bg-color: #3B4455;\n",
              "      --disabled-fill-color: #666;\n",
              "  }\n",
              "\n",
              "  .colab-df-quickchart {\n",
              "    background-color: var(--bg-color);\n",
              "    border: none;\n",
              "    border-radius: 50%;\n",
              "    cursor: pointer;\n",
              "    display: none;\n",
              "    fill: var(--fill-color);\n",
              "    height: 32px;\n",
              "    padding: 0;\n",
              "    width: 32px;\n",
              "  }\n",
              "\n",
              "  .colab-df-quickchart:hover {\n",
              "    background-color: var(--hover-bg-color);\n",
              "    box-shadow: 0 1px 2px rgba(60, 64, 67, 0.3), 0 1px 3px 1px rgba(60, 64, 67, 0.15);\n",
              "    fill: var(--button-hover-fill-color);\n",
              "  }\n",
              "\n",
              "  .colab-df-quickchart-complete:disabled,\n",
              "  .colab-df-quickchart-complete:disabled:hover {\n",
              "    background-color: var(--disabled-bg-color);\n",
              "    fill: var(--disabled-fill-color);\n",
              "    box-shadow: none;\n",
              "  }\n",
              "\n",
              "  .colab-df-spinner {\n",
              "    border: 2px solid var(--fill-color);\n",
              "    border-color: transparent;\n",
              "    border-bottom-color: var(--fill-color);\n",
              "    animation:\n",
              "      spin 1s steps(1) infinite;\n",
              "  }\n",
              "\n",
              "  @keyframes spin {\n",
              "    0% {\n",
              "      border-color: transparent;\n",
              "      border-bottom-color: var(--fill-color);\n",
              "      border-left-color: var(--fill-color);\n",
              "    }\n",
              "    20% {\n",
              "      border-color: transparent;\n",
              "      border-left-color: var(--fill-color);\n",
              "      border-top-color: var(--fill-color);\n",
              "    }\n",
              "    30% {\n",
              "      border-color: transparent;\n",
              "      border-left-color: var(--fill-color);\n",
              "      border-top-color: var(--fill-color);\n",
              "      border-right-color: var(--fill-color);\n",
              "    }\n",
              "    40% {\n",
              "      border-color: transparent;\n",
              "      border-right-color: var(--fill-color);\n",
              "      border-top-color: var(--fill-color);\n",
              "    }\n",
              "    60% {\n",
              "      border-color: transparent;\n",
              "      border-right-color: var(--fill-color);\n",
              "    }\n",
              "    80% {\n",
              "      border-color: transparent;\n",
              "      border-right-color: var(--fill-color);\n",
              "      border-bottom-color: var(--fill-color);\n",
              "    }\n",
              "    90% {\n",
              "      border-color: transparent;\n",
              "      border-bottom-color: var(--fill-color);\n",
              "    }\n",
              "  }\n",
              "</style>\n",
              "\n",
              "      <script>\n",
              "        async function quickchart(key) {\n",
              "          const quickchartButtonEl =\n",
              "            document.querySelector('#' + key + ' button');\n",
              "          quickchartButtonEl.disabled = true;  // To prevent multiple clicks.\n",
              "          quickchartButtonEl.classList.add('colab-df-spinner');\n",
              "          try {\n",
              "            const charts = await google.colab.kernel.invokeFunction(\n",
              "                'suggestCharts', [key], {});\n",
              "          } catch (error) {\n",
              "            console.error('Error during call to suggestCharts:', error);\n",
              "          }\n",
              "          quickchartButtonEl.classList.remove('colab-df-spinner');\n",
              "          quickchartButtonEl.classList.add('colab-df-quickchart-complete');\n",
              "        }\n",
              "        (() => {\n",
              "          let quickchartButtonEl =\n",
              "            document.querySelector('#df-f9b62858-175c-4a6e-816c-480d65715280 button');\n",
              "          quickchartButtonEl.style.display =\n",
              "            google.colab.kernel.accessAllowed ? 'block' : 'none';\n",
              "        })();\n",
              "      </script>\n",
              "    </div>\n",
              "\n",
              "    </div>\n",
              "  </div>\n"
            ],
            "application/vnd.google.colaboratory.intrinsic+json": {
              "type": "dataframe",
              "variable_name": "df",
              "summary": "{\n  \"name\": \"df\",\n  \"rows\": 1314,\n  \"fields\": [\n    {\n      \"column\": \"LotArea\",\n      \"properties\": {\n        \"dtype\": \"number\",\n        \"std\": 10430,\n        \"min\": 1300,\n        \"max\": 215245,\n        \"num_unique_values\": 977,\n        \"samples\": [\n          7851,\n          10846,\n          13346\n        ],\n        \"semantic_type\": \"\",\n        \"description\": \"\"\n      }\n    },\n    {\n      \"column\": \"TotalBsmtSF\",\n      \"properties\": {\n        \"dtype\": \"number\",\n        \"std\": 435,\n        \"min\": 0,\n        \"max\": 6110,\n        \"num_unique_values\": 674,\n        \"samples\": [\n          1277,\n          1500,\n          1340\n        ],\n        \"semantic_type\": \"\",\n        \"description\": \"\"\n      }\n    },\n    {\n      \"column\": \"GrLivArea\",\n      \"properties\": {\n        \"dtype\": \"number\",\n        \"std\": 524,\n        \"min\": 334,\n        \"max\": 5642,\n        \"num_unique_values\": 810,\n        \"samples\": [\n          1474,\n          1804,\n          3194\n        ],\n        \"semantic_type\": \"\",\n        \"description\": \"\"\n      }\n    },\n    {\n      \"column\": \"GarageArea\",\n      \"properties\": {\n        \"dtype\": \"number\",\n        \"std\": 213,\n        \"min\": 0,\n        \"max\": 1418,\n        \"num_unique_values\": 419,\n        \"samples\": [\n          495,\n          458,\n          936\n        ],\n        \"semantic_type\": \"\",\n        \"description\": \"\"\n      }\n    },\n    {\n      \"column\": \"PoolArea\",\n      \"properties\": {\n        \"dtype\": \"number\",\n        \"std\": 39,\n        \"min\": 0,\n        \"max\": 738,\n        \"num_unique_values\": 7,\n        \"samples\": [\n          0,\n          648,\n          480\n        ],\n        \"semantic_type\": \"\",\n        \"description\": \"\"\n      }\n    },\n    {\n      \"column\": \"OverallCond\",\n      \"properties\": {\n        \"dtype\": \"number\",\n        \"std\": 1,\n        \"min\": 1,\n        \"max\": 9,\n        \"num_unique_values\": 9,\n        \"samples\": [\n          9,\n          6,\n          1\n        ],\n        \"semantic_type\": \"\",\n        \"description\": \"\"\n      }\n    },\n    {\n      \"column\": \"Utilities\",\n      \"properties\": {\n        \"dtype\": \"category\",\n        \"num_unique_values\": 2,\n        \"samples\": [\n          \"NoSeWa\",\n          \"AllPub\"\n        ],\n        \"semantic_type\": \"\",\n        \"description\": \"\"\n      }\n    },\n    {\n      \"column\": \"SalePrice\",\n      \"properties\": {\n        \"dtype\": \"number\",\n        \"std\": 77511,\n        \"min\": 34900,\n        \"max\": 755000,\n        \"num_unique_values\": 626,\n        \"samples\": [\n          611657,\n          157000\n        ],\n        \"semantic_type\": \"\",\n        \"description\": \"\"\n      }\n    }\n  ]\n}"
            }
          },
          "metadata": {},
          "execution_count": 20
        }
      ],
      "source": [
        "df.head()"
      ]
    },
    {
      "cell_type": "markdown",
      "metadata": {
        "id": "LNnfJbohAaTM"
      },
      "source": [
        "What are all the features present? What is the range for each of the features along with their mean?"
      ]
    },
    {
      "cell_type": "code",
      "execution_count": 21,
      "metadata": {
        "id": "i0e6ZqO6AaTM",
        "outputId": "4df204d7-0275-4eeb-e71b-56c6a23b6ef7",
        "colab": {
          "base_uri": "https://localhost:8080/"
        }
      },
      "outputs": [
        {
          "output_type": "stream",
          "name": "stdout",
          "text": [
            "Feature: LotArea:\n",
            "Range: 213945:\n",
            "Mean: 10622.104261796043:\n",
            "\n",
            "\n",
            "Feature: TotalBsmtSF:\n",
            "Range: 6110:\n",
            "Mean: 1058.3112633181127:\n",
            "\n",
            "\n",
            "Feature: GrLivArea:\n",
            "Range: 5308:\n",
            "Mean: 1512.9003044140031:\n",
            "\n",
            "\n",
            "Feature: GarageArea:\n",
            "Range: 1418:\n",
            "Mean: 473.48021308980213:\n",
            "\n",
            "\n",
            "Feature: PoolArea:\n",
            "Range: 738:\n",
            "Mean: 2.6430745814307457:\n",
            "\n",
            "\n",
            "Feature: OverallCond:\n",
            "Range: 8:\n",
            "Mean: 5.582191780821918:\n",
            "\n",
            "\n",
            "Feature: Utilities:\n",
            "Values are strings\n",
            "\n",
            "\n",
            "Feature: SalePrice:\n",
            "Range: 720100:\n",
            "Mean: 180795.50456621006:\n",
            "\n",
            "\n"
          ]
        }
      ],
      "source": [
        "listoffeatures = df.columns.tolist()\n",
        "for feature in listoffeatures:\n",
        "  if isinstance(df[feature].max(), (int,float)):\n",
        "    feature_range = df[feature].max() - df[feature].min()\n",
        "    mean = df[feature].mean()\n",
        "    print(f\"Feature: {feature}:\")\n",
        "    print(f\"Range: {feature_range}:\")\n",
        "    print(f\"Mean: {mean}:\")\n",
        "    print(\"\\n\")\n",
        "  else:\n",
        "    print(f\"Feature: {feature}:\")\n",
        "    print(\"Values are strings\")\n",
        "    print(\"\\n\")"
      ]
    },
    {
      "cell_type": "markdown",
      "metadata": {
        "id": "8Hjdd5Y5AaTM"
      },
      "source": [
        "### **Feature Scaling and One-Hot Encoding**"
      ]
    },
    {
      "cell_type": "markdown",
      "metadata": {
        "id": "J3ls8u3hAaTM"
      },
      "source": [
        "You must have noticed that some features `(such as Utilities)` are not continuous values.\n",
        "  \n",
        "These features contain values indicating different categories and must somehow be converted to numbers so that the computer can understand it. `(Computers only understand numbers and not strings)`\n",
        "  \n",
        "These features are called categorical features. We can represent these features as a `One-Hot Representation`\n",
        "  \n",
        "  \n",
        "You must have also noticed that all the other features, each are in a different scale. This can be detremental to the performance of our linear regression model and so we normalize them so that all of them are in the range $[0,1]$"
      ]
    },
    {
      "cell_type": "markdown",
      "metadata": {
        "id": "yeoczqQIAaTM"
      },
      "source": [
        "> NOTE: When you are doing feature scaling, store the min/max which you will use to normalize somewhere. This is then to be used at testing time. Try to think why are doing this?"
      ]
    },
    {
      "cell_type": "code",
      "execution_count": 22,
      "metadata": {
        "id": "W17LZP2qAaTN"
      },
      "outputs": [],
      "source": [
        "# Do the one-hot encoding here\n",
        "df = pd.get_dummies(df, dtype = 'int32')"
      ]
    },
    {
      "cell_type": "code",
      "execution_count": 23,
      "metadata": {
        "id": "gG7rV9TCAaTN"
      },
      "outputs": [],
      "source": [
        "# Do the feature scaling here\n"
      ]
    },
    {
      "cell_type": "code",
      "metadata": {
        "id": "555ab820"
      },
      "source": [
        "# Do the feature scaling here\n",
        "\n",
        "# Select only the numeric columns for scaling\n",
        "numeric_cols = df.select_dtypes(include=['int64', 'float64']).columns\n",
        "# Exclude the target variable 'SalePrice' from scaling\n",
        "numeric_cols = numeric_cols.drop('SalePrice')\n",
        "\n",
        "\n",
        "# Store the min and max values for later use\n",
        "min_values = df[numeric_cols].min()\n",
        "max_values = df[numeric_cols].max()\n",
        "\n",
        "# Apply Min-Max scaling\n",
        "df[numeric_cols] = (df[numeric_cols] - min_values) / (max_values - min_values)"
      ],
      "execution_count": 24,
      "outputs": []
    },
    {
      "cell_type": "markdown",
      "metadata": {
        "id": "xcZxb-V4AaTN"
      },
      "source": [
        "### **Conversion to NumPy**"
      ]
    },
    {
      "cell_type": "markdown",
      "metadata": {
        "id": "6-_3l_1iAaTN"
      },
      "source": [
        "Ok so now that we have all preprocessed all the data, we need to convert it to numpy for our linear regression model\n",
        "  \n",
        "Assume that our dataset has a total of $N$ datapoints. Each datapoint having a total of $D$ features (after one-hot encoding), we want our numpy array to be of shape $(N, D)$"
      ]
    },
    {
      "cell_type": "markdown",
      "metadata": {
        "id": "QJmGKlEgAaTN"
      },
      "source": [
        "In our task, we have to predict the `SalePrice`. We will need 2 numpy arrays $\n",
        "\n",
        "*   List item\n",
        "*   List item\n",
        "\n",
        "(X, Y)$. These represent the features and targets respectively"
      ]
    },
    {
      "cell_type": "code",
      "execution_count": 25,
      "metadata": {
        "id": "XJk8M5QmAaTN",
        "colab": {
          "base_uri": "https://localhost:8080/"
        },
        "outputId": "9410e690-4d23-4d1f-9c82-5171b71d06ba"
      },
      "outputs": [
        {
          "output_type": "stream",
          "name": "stdout",
          "text": [
            "(1314, 8)\n",
            "(1314, 1)\n"
          ]
        }
      ],
      "source": [
        "# Convert to numpy array\n",
        "X = df.drop('SalePrice', axis=1).to_numpy() # (N, D)\n",
        "Y = df['SalePrice'].to_numpy().reshape(-1, 1) # (N, 1)\n",
        "print(X.shape)\n",
        "print(Y.shape)"
      ]
    },
    {
      "cell_type": "markdown",
      "metadata": {
        "id": "J7YT1X-3AaTN"
      },
      "source": [
        "## Linear Regression formulation\n",
        "  \n",
        "We now have our data in the form we need. Let's try to create a linear model to get our initial (Really bad) prediction\n"
      ]
    },
    {
      "cell_type": "markdown",
      "metadata": {
        "id": "upgXFnXgAaTN"
      },
      "source": [
        "Let's say a single datapoint in our dataset consists of 3 features $(x_1, x_2, x_3)$, we can pose it as a linear equation as follows:\n",
        "$$ y = w_1x_1 + w_2x_2 + w_3x_3 + b $$\n",
        "Here we have to learn 4 parameters $(w_1, w_2, w_3, b)$\n",
        "  \n",
        "  \n",
        "Now how do we extend this to multiple datapoints?  \n",
        "  \n",
        "  \n",
        "Try to answer the following:\n",
        "- How many parameters will we have to learn in the cae of our dataset? (Don't forget the bias term)\n",
        "- Form a linear equation for our dataset. We need just a single matrix equation which correctly represents all the datapoints in our dataset\n",
        "- Implement the linear equation as an equation using NumPy arrays (Start by randomly initializing the weights from a standard normal distribution)"
      ]
    },
    {
      "cell_type": "code",
      "execution_count": 26,
      "metadata": {
        "id": "IvB5DGT7AaTO"
      },
      "outputs": [],
      "source": [
        "import numpy as np\n",
        "\n",
        "# Number of features (D)\n",
        "D = X.shape[1]\n",
        "\n",
        "# Initialize weights (W) and bias (b)\n",
        "# W should have shape (D, 1) for matrix multiplication with X (N, D)\n",
        "w = np.random.randn(D, 1)\n",
        "b = np.random.randn(1, 1)\n",
        "\n",
        "# Calculate initial predictions\n",
        "y_pred = X @ w + b"
      ]
    },
    {
      "cell_type": "markdown",
      "metadata": {
        "id": "_ldc0Ap_AaTO"
      },
      "source": [
        "How well does our model perform? Try comparing our predictions with the actual values"
      ]
    },
    {
      "cell_type": "code",
      "execution_count": 27,
      "metadata": {
        "id": "TnnX7hG5AaTO",
        "colab": {
          "base_uri": "https://localhost:8080/"
        },
        "outputId": "f23f50dc-f44b-452f-9318-febb21b89aad"
      },
      "outputs": [
        {
          "output_type": "stream",
          "name": "stdout",
          "text": [
            "Shape of actual values (Y): (1314, 1)\n",
            "Shape of predicted values (y_pred): (1314, 1)\n",
            "\n",
            "Sample of Actual vs Predicted values:\n",
            "Actual: 158000.00, Predicted: -1.50\n",
            "Actual: 138500.00, Predicted: -1.44\n",
            "Actual: 115000.00, Predicted: -1.75\n",
            "Actual: 84900.00, Predicted: -1.88\n",
            "Actual: 225000.00, Predicted: -1.84\n"
          ]
        }
      ],
      "source": [
        "# Compare predictions with actual values\n",
        "print(\"Shape of actual values (Y):\", Y.shape)\n",
        "print(\"Shape of predicted values (y_pred):\", y_pred.shape)\n",
        "\n",
        "# Display a sample of actual and predicted values\n",
        "print(\"\\nSample of Actual vs Predicted values:\")\n",
        "for i in range(5):\n",
        "    print(f\"Actual: {Y[i][0]:.2f}, Predicted: {y_pred[i][0]:.2f}\")"
      ]
    },
    {
      "cell_type": "markdown",
      "metadata": {
        "id": "MryM_jtQAaTO"
      },
      "source": [
        "### **Learning weights using gradient descent**"
      ]
    },
    {
      "cell_type": "markdown",
      "metadata": {
        "id": "kq9rq3T9AaTO"
      },
      "source": [
        "So these results are really horrible. We need to somehow update our weights so that it correclty represents our data. How do we do that?"
      ]
    },
    {
      "cell_type": "markdown",
      "metadata": {
        "id": "5EKd0mhkAaTO"
      },
      "source": [
        "We must do the following:\n",
        "- We need some numerical indication for our performance, for this we define a Loss Function ( $\\mathscr{L}$ )\n",
        "- Find the gradients of the `Loss` with respect to the `Weights`\n",
        "- Update the weights in accordance to the gradients: $W = W - \\alpha\\nabla_W \\mathscr{L}$"
      ]
    },
    {
      "cell_type": "markdown",
      "metadata": {
        "id": "uUfs8wh3AaTO"
      },
      "source": [
        "Lets define the loss function:\n",
        "- We will use the MSE loss since it is a regression task. (Specify the assumptions we make while doing so as taught in the class).\n",
        "- Implement this loss as a function. (Use numpy as much as possible)"
      ]
    },
    {
      "cell_type": "code",
      "execution_count": 28,
      "metadata": {
        "id": "b4G28aKRAaTO"
      },
      "outputs": [],
      "source": [
        "def mse_loss_fn(y_true, y_pred):\n",
        "    \"\"\"\n",
        "    Calculates the Mean Squared Error (MSE) loss.\n",
        "\n",
        "    Args:\n",
        "        y_true: The true values of the target variable.\n",
        "        y_pred: The predicted values of the target variable.\n",
        "\n",
        "    Returns:\n",
        "        The MSE loss.\n",
        "    \"\"\"\n",
        "    return np.mean((y_true - y_pred)**2)"
      ]
    },
    {
      "cell_type": "markdown",
      "metadata": {
        "id": "eUnb9WpfAaTP"
      },
      "source": [
        "Calculate the gradients of the loss with respect to the weights (and biases). First write the equations down on a piece of paper, then proceed to implement it"
      ]
    },
    {
      "cell_type": "code",
      "execution_count": 29,
      "metadata": {
        "id": "BDYpZjjMAaTP"
      },
      "outputs": [],
      "source": [
        "def get_gradients(y_true, y_pred, W, b, X):\n",
        "    \"\"\"\n",
        "    Calculates the gradients for the MSE loss function with respect to the weights (and bias)\n",
        "\n",
        "    Args:\n",
        "        y_true: The true values of the target variable (SalePrice in our case)\n",
        "        y_pred: The predicted values of the target variable using our model (W*X + b)\n",
        "\n",
        "        W: The weights of the model\n",
        "        b: The bias of the model\n",
        "        X: The input features\n",
        "\n",
        "    Returns:\n",
        "        dW: The gradients of the loss function with respect to the weights\n",
        "        db: The gradients of the loss function with respect to the bias\n",
        "    \"\"\"\n",
        "    N = X.shape[0] # Number of data points\n",
        "    dW = -2 * X.T @ (y_true - y_pred) / N\n",
        "    db = -2 * np.sum(y_true - y_pred) / N\n",
        "    return dW, db"
      ]
    },
    {
      "cell_type": "markdown",
      "metadata": {
        "id": "hfbjlNBXAaTP"
      },
      "source": [
        "Update the weights using the gradients"
      ]
    },
    {
      "cell_type": "code",
      "execution_count": 30,
      "metadata": {
        "id": "9Xstl9DpAaTP"
      },
      "outputs": [],
      "source": [
        "def update(weights, bias, gradients_weights, gradients_bias, lr):\n",
        "    \"\"\"\n",
        "    Updates the weights (and bias) using the gradients and the learning rate\n",
        "\n",
        "    Args:\n",
        "        weights: The current weights of the model\n",
        "        bias: The current bias of the model\n",
        "\n",
        "        gradients_weights: The gradients of the loss function with respect to the weights\n",
        "        gradients_bias: The gradients of the loss function with respect to the bias\n",
        "\n",
        "        lr: The learning rate\n",
        "\n",
        "    Returns:\n",
        "        weights_new: The updated weights of the model\n",
        "        bias_new: The updated bias of the model\n",
        "\n",
        "    \"\"\"\n",
        "    weights_new = weights - lr * gradients_weights\n",
        "    bias_new = bias - lr * gradients_bias\n",
        "    return weights_new, bias_new"
      ]
    },
    {
      "cell_type": "markdown",
      "metadata": {
        "id": "wZqXDTjFAaTP"
      },
      "source": [
        "Put all these together to find the loss value, its gradient and finally updating the weights in a loop. Feel free to play around with different learning rates and epochs\n",
        "  \n",
        "> NOTE: The code in comments are just meant to be used as a guide. You will have to do changes based on your code"
      ]
    },
    {
      "cell_type": "code",
      "execution_count": 31,
      "metadata": {
        "id": "a3BVX4nlAaTP",
        "colab": {
          "base_uri": "https://localhost:8080/"
        },
        "outputId": "830527bc-59df-41d7-e97a-cf6ff96fee8b"
      },
      "outputs": [
        {
          "output_type": "stream",
          "name": "stdout",
          "text": [
            "Final Loss: 2780478953.623201\n"
          ]
        }
      ],
      "source": [
        "import matplotlib.pyplot as plt\n",
        "\n",
        "NUM_EPOCHS = 1000\n",
        "LEARNING_RATE = 2e-2\n",
        "\n",
        "losses = []\n",
        "\n",
        "for epoch in range(NUM_EPOCHS):\n",
        "    y_pred = X @ w + b\n",
        "    loss = mse_loss_fn(Y, y_pred)\n",
        "    losses.append(loss)\n",
        "    dw, db = get_gradients(Y, y_pred, w, b, X)\n",
        "    w, b = update(w, b, dw, db, LEARNING_RATE)\n",
        "\n",
        "print(\"Final Loss:\", losses[-1])"
      ]
    },
    {
      "cell_type": "markdown",
      "metadata": {
        "id": "uYgND-OLAaTQ"
      },
      "source": [
        "Now use matplotlib to plot the loss graph"
      ]
    },
    {
      "cell_type": "code",
      "execution_count": 32,
      "metadata": {
        "id": "RxFqG5GSAaTQ",
        "colab": {
          "base_uri": "https://localhost:8080/",
          "height": 465
        },
        "outputId": "3f2d5320-3d3f-4b01-adae-4aa391cec4bb"
      },
      "outputs": [
        {
          "output_type": "display_data",
          "data": {
            "text/plain": [
              "<Figure size 640x480 with 1 Axes>"
            ],
            "image/png": "[encoded data removed]"
          },
          "metadata": {}
        }
      ],
      "source": [
        "plt.plot(losses)\n",
        "plt.xlabel('Epochs')\n",
        "plt.ylabel('Loss')\n",
        "plt.show()"
      ]
    },
    {
      "cell_type": "markdown",
      "metadata": {
        "id": "kaZdAzbvAaTQ"
      },
      "source": [
        "### **Testing with test data**"
      ]
    },
    {
      "cell_type": "markdown",
      "metadata": {
        "id": "vuSbgtM6AaTQ"
      },
      "source": [
        "Load and apply all the preprocessing steps used in the training data for the testing data as well. Remember to use the **SAME** min/max values which you used for the training set and not recalculate them from the test set. Also mention why we are doing this.\n",
        "\n",
        "To load test data from GitHub, use the code below.\n"
      ]
    },
    {
      "cell_type": "code",
      "execution_count": 33,
      "metadata": {
        "id": "3iuQ4ulhAaTQ",
        "colab": {
          "base_uri": "https://localhost:8080/"
        },
        "outputId": "0981586e-abcd-4d22-a449-f08a7bd79305"
      },
      "outputs": [
        {
          "output_type": "stream",
          "name": "stdout",
          "text": [
            "     LotArea  TotalBsmtSF  GrLivArea  GarageArea  PoolArea  OverallCond  \\\n",
            "0      15623         2396       4476         813       555            5   \n",
            "1      11952          808       1969         534         0            6   \n",
            "2       7558          896       1913         342         0            6   \n",
            "3       6762         1187       1208         632         0            5   \n",
            "4       8529         1454       1434         527         0            5   \n",
            "..       ...          ...        ...         ...       ...          ...   \n",
            "141     9135         1536       1536         532         0            5   \n",
            "142    11639         1428       1428         480         0            5   \n",
            "143    11475         1584       1776         888         0            5   \n",
            "144     5925          907       1131         672         0            7   \n",
            "145    14559         1008       1363         288         0            7   \n",
            "\n",
            "    Utilities  SalePrice  \n",
            "0      AllPub     745000  \n",
            "1      AllPub     190000  \n",
            "2      AllPub     177000  \n",
            "3      AllPub     206000  \n",
            "4      AllPub     189000  \n",
            "..        ...        ...  \n",
            "141    AllPub     214000  \n",
            "142    AllPub     182000  \n",
            "143    AllPub     110000  \n",
            "144    AllPub      89471  \n",
            "145    AllPub     164900  \n",
            "\n",
            "[146 rows x 8 columns]\n"
          ]
        }
      ],
      "source": [
        "df_test = pd.read_csv('https://raw.githubusercontent.com/cronan03/DevSoc_AI-ML/main/test_processed_splitted.csv')\n",
        "print(df_test)\n",
        "\n",
        "# One-hot encode the 'Utilities' column\n",
        "df_test = pd.get_dummies(df_test, columns=['Utilities'], dtype='int32')\n",
        "\n",
        "# Ensure all columns from training set are present in test set and add with 0 if not\n",
        "for col in df.columns:\n",
        "    if col not in df_test.columns:\n",
        "        df_test[col] = 0\n",
        "\n",
        "# Ensure the order of columns in df_test is the same as df\n",
        "df_test = df_test[df.columns]"
      ]
    },
    {
      "cell_type": "markdown",
      "metadata": {
        "id": "KxqOWigRAaTQ"
      },
      "source": [
        "Using the weights learnt above, predict the values in the test dataset. Also answer the following questions:\n",
        "- Are the predictions good?\n",
        "- What is the MSE loss for the testset\n",
        "- Is the MSE loss for testing greater or lower than training\n",
        "- Why is this the case"
      ]
    },
    {
      "cell_type": "code",
      "execution_count": 34,
      "metadata": {
        "id": "xvF1EJfZAaTQ",
        "colab": {
          "base_uri": "https://localhost:8080/"
        },
        "outputId": "bada4fc8-0db8-4056-ccd7-3d7ee84421a7"
      },
      "outputs": [
        {
          "output_type": "stream",
          "name": "stdout",
          "text": [
            "Warning: NaN values found after scaling.\n",
            "(146, 8)\n"
          ]
        }
      ],
      "source": [
        "# Scale the features\n",
        "\n",
        "# Drop duplicate columns before scaling\n",
        "df_test = df_test.loc[:,~df_test.columns.duplicated()].copy()\n",
        "\n",
        "\n",
        "# Fill NaN values\n",
        "df_test.fillna(0, inplace=True)\n",
        "\n",
        "# Scale features\n",
        "# Select only the numeric columns for scaling\n",
        "numeric_cols_test = df_test.select_dtypes(include=['int64', 'float64']).columns\n",
        "# Exclude the target variable 'SalePrice' from scaling\n",
        "numeric_cols_test = numeric_cols_test.drop('SalePrice')\n",
        "\n",
        "# Check for and handle infinite values before scaling\n",
        "if np.isinf(df_test[numeric_cols_test]).any().any():\n",
        "    df_test[numeric_cols_test] = df_test[numeric_cols_test].replace([np.inf, -np.inf], np.nan)\n",
        "    df_test.fillna(0, inplace=True) # Fill NaNs introduced by replacing infinities\n",
        "\n",
        "\n",
        "# Apply Min-Max scaling using min/max from training data\n",
        "# Check if max_values - min_values is zero to avoid division by zero\n",
        "if (max_values - min_values).eq(0).any():\n",
        "    print(\"Warning: Division by zero encountered during scaling.\")\n",
        "    # Handle cases where the range is zero (all values are the same)\n",
        "    # For simplicity, we can just set these scaled values to 0 or 1\n",
        "    zero_range_cols = (max_values - min_values).eq(0)\n",
        "    df_test[numeric_cols_test.intersection(zero_range_cols.index[zero_range_cols])] = 0\n",
        "    # Scale the remaining columns\n",
        "    cols_to_scale = numeric_cols_test.difference(zero_range_cols.index[zero_range_cols])\n",
        "    df_test[cols_to_scale] = (df_test[cols_to_scale] - min_values[cols_to_scale]) / (max_values[cols_to_scale] - min_values[cols_to_scale])\n",
        "else:\n",
        "    df_test[numeric_cols_test] = (df_test[numeric_cols_test] - min_values) / (max_values - min_values)\n",
        "\n",
        "\n",
        "# Check for unexpected NaNs after scaling\n",
        "if df_test[numeric_cols_test].isnull().any().any():\n",
        "    print(\"Warning: NaN values found after scaling.\")\n",
        "    # Consider adding more robust handling here if needed\n",
        "\n",
        "\n",
        "# The column alignment in cell 3iuQ4ulhAaTQ should handle the Utilities_AllPub column now,\n",
        "# so we don't need to explicitly drop it here.\n",
        "# if 'Utilities_AllPub' in df_test.columns:\n",
        "#     df_test = df_test.drop('Utilities_AllPub', axis=1)\n",
        "\n",
        "\n",
        "# Convert to numpy array and ensure numeric type\n",
        "x_test = df_test.copy().drop('SalePrice', axis=1).to_numpy().astype(float) # (N, D)\n",
        "y_test = df_test.copy()['SalePrice'].to_numpy().reshape(-1, 1) # (N, 1)\n",
        "print(x_test.shape)"
      ]
    },
    {
      "cell_type": "code",
      "source": [
        "extra_cols = list(set(df_test.columns) - set(df.columns))\n",
        "print(\"Extra columns in df_test:\", extra_cols)\n",
        "\n",
        "missing_cols = list(set(df.columns) - set(df_test.columns))\n",
        "print(\"Missing columns in df_test:\", missing_cols)"
      ],
      "metadata": {
        "id": "MkmpTFp8yi1L",
        "colab": {
          "base_uri": "https://localhost:8080/"
        },
        "outputId": "ded85875-1f0e-4196-fdec-e90b5a71fb65"
      },
      "execution_count": 35,
      "outputs": [
        {
          "output_type": "stream",
          "name": "stdout",
          "text": [
            "Extra columns in df_test: []\n",
            "Missing columns in df_test: []\n"
          ]
        }
      ]
    },
    {
      "cell_type": "code",
      "source": [
        "# Make predictions\n",
        "y_pred_test = x_test @ w + b # (N, 1)\n",
        "loss_test = mse_loss_fn(y_test, y_pred_test)\n",
        "\n",
        "\n",
        "# Scale the predictions back to the original scale"
      ],
      "metadata": {
        "id": "Z-TbJp0ntTip"
      },
      "execution_count": 36,
      "outputs": []
    },
    {
      "cell_type": "code",
      "source": [
        "idx = np.random.randint(0, x_test.shape[0], 5)\n",
        "y_pred_test_sample = y_pred_test[idx].round().astype(int)\n",
        "y_true_test_sample = y_test[idx].round().astype(int)\n",
        "\n",
        "print('Predicted SalePrice: \\t', y_pred_test_sample.squeeze().tolist())\n",
        "print('Actual SalePrice: \\t', y_true_test_sample.squeeze().tolist())\n",
        "print('\\nTest Loss: \\t\\t', loss_test)"
      ],
      "metadata": {
        "id": "GIGSX11u62JU",
        "colab": {
          "base_uri": "https://localhost:8080/"
        },
        "outputId": "0e6b5bab-472f-4d5e-ab0f-0bb9bbd3f151"
      },
      "execution_count": 37,
      "outputs": [
        {
          "output_type": "stream",
          "name": "stdout",
          "text": [
            "Predicted SalePrice: \t [-9223372036854775808, -9223372036854775808, -9223372036854775808, -9223372036854775808, -9223372036854775808]\n",
            "Actual SalePrice: \t [200000, 182000, 235000, 202500, 179600]\n",
            "\n",
            "Test Loss: \t\t nan\n"
          ]
        },
        {
          "output_type": "stream",
          "name": "stderr",
          "text": [
            "/tmp/ipython-input-371385527.py:2: RuntimeWarning: invalid value encountered in cast\n",
            "  y_pred_test_sample = y_pred_test[idx].round().astype(int)\n"
          ]
        }
      ]
    }
  ],
  "metadata": {
    "kernelspec": {
      "display_name": "Python 3",
      "language": "python",
      "name": "python3"
    },
    "language_info": {
      "codemirror_mode": {
        "name": "ipython",
        "version": 3
      },
      "file_extension": ".py",
      "mimetype": "text/x-python",
      "name": "python",
      "nbconvert_exporter": "python",
      "pygments_lexer": "ipython3",
      "version": "3.10.12"
    },
    "orig_nbformat": 4,
    "colab": {
      "provenance": [],
      "include_colab_link": true
    }
  },
  "nbformat": 4,
  "nbformat_minor": 0
}